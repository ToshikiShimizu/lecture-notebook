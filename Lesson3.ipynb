{
  "nbformat": 4,
  "nbformat_minor": 0,
  "metadata": {
    "colab": {
      "name": "Lesson3",
      "provenance": [],
      "collapsed_sections": [],
      "authorship_tag": "ABX9TyNekhUBsjWRpzma1Iq7QwBu",
      "include_colab_link": true
    },
    "kernelspec": {
      "name": "python3",
      "display_name": "Python 3"
    }
  },
  "cells": [
    {
      "cell_type": "markdown",
      "metadata": {
        "id": "view-in-github",
        "colab_type": "text"
      },
      "source": [
        "<a href=\"https://colab.research.google.com/github/ToshikiShimizu/lecture-notebook/blob/master/Lesson3.ipynb\" target=\"_parent\"><img src=\"https://colab.research.google.com/assets/colab-badge.svg\" alt=\"Open In Colab\"/></a>"
      ]
    },
    {
      "cell_type": "markdown",
      "metadata": {
        "id": "bM5yrmb0df-M",
        "colab_type": "text"
      },
      "source": [
        "# 文字列の連結"
      ]
    },
    {
      "cell_type": "code",
      "metadata": {
        "id": "JHuaE3vLdn_y",
        "colab_type": "code",
        "colab": {
          "base_uri": "https://localhost:8080/",
          "height": 34
        },
        "outputId": "4cc658a0-7eb2-4e0c-ab55-c563e0a5b628"
      },
      "source": [
        "var = 'Hello ' + 'world'\n",
        "print(var)"
      ],
      "execution_count": 5,
      "outputs": [
        {
          "output_type": "stream",
          "text": [
            "Hello world\n"
          ],
          "name": "stdout"
        }
      ]
    }
  ]
}