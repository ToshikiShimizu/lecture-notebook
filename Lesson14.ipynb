{
  "nbformat": 4,
  "nbformat_minor": 0,
  "metadata": {
    "colab": {
      "name": "Lesson14.ipynb",
      "provenance": [],
      "authorship_tag": "ABX9TyOPNAaE/53uoLTF+g/6nOVd",
      "include_colab_link": true
    },
    "kernelspec": {
      "name": "python3",
      "display_name": "Python 3"
    }
  },
  "cells": [
    {
      "cell_type": "markdown",
      "metadata": {
        "id": "view-in-github",
        "colab_type": "text"
      },
      "source": [
        "<a href=\"https://colab.research.google.com/github/ToshikiShimizu/lecture-notebook/blob/master/Lesson14.ipynb\" target=\"_parent\"><img src=\"https://colab.research.google.com/assets/colab-badge.svg\" alt=\"Open In Colab\"/></a>"
      ]
    },
    {
      "cell_type": "markdown",
      "metadata": {
        "id": "xnkXk56i0tbb",
        "colab_type": "text"
      },
      "source": [
        "# if文"
      ]
    },
    {
      "cell_type": "code",
      "metadata": {
        "id": "-P9EG3rU1MaK",
        "colab_type": "code",
        "colab": {}
      },
      "source": [
        "var = 3"
      ],
      "execution_count": 0,
      "outputs": []
    },
    {
      "cell_type": "code",
      "metadata": {
        "id": "P54vus3R1V9u",
        "colab_type": "code",
        "colab": {
          "base_uri": "https://localhost:8080/",
          "height": 34
        },
        "outputId": "32d908ba-803f-45d2-fda1-4bbea24cd070"
      },
      "source": [
        "if var < 2:\n",
        "  print ('A')\n",
        "elif var < 4:\n",
        "  print ('B')"
      ],
      "execution_count": 5,
      "outputs": [
        {
          "output_type": "stream",
          "text": [
            "B\n"
          ],
          "name": "stdout"
        }
      ]
    }
  ]
}