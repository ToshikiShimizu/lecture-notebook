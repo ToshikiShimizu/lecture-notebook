{
  "nbformat": 4,
  "nbformat_minor": 0,
  "metadata": {
    "colab": {
      "name": "Lesson8",
      "provenance": [],
      "authorship_tag": "ABX9TyOt+o8/5aypn25YzFFkties",
      "include_colab_link": true
    },
    "kernelspec": {
      "name": "python3",
      "display_name": "Python 3"
    }
  },
  "cells": [
    {
      "cell_type": "markdown",
      "metadata": {
        "id": "view-in-github",
        "colab_type": "text"
      },
      "source": [
        "<a href=\"https://colab.research.google.com/github/ToshikiShimizu/lecture-notebook/blob/master/Lesson8.ipynb\" target=\"_parent\"><img src=\"https://colab.research.google.com/assets/colab-badge.svg\" alt=\"Open In Colab\"/></a>"
      ]
    },
    {
      "cell_type": "markdown",
      "metadata": {
        "id": "mwO7j90KfIU9",
        "colab_type": "text"
      },
      "source": [
        "# 文字列の大文字・小文字変換"
      ]
    },
    {
      "cell_type": "code",
      "metadata": {
        "id": "3oXmMbAnfoji",
        "colab_type": "code",
        "colab": {}
      },
      "source": [
        "var = 'AbC'"
      ],
      "execution_count": 0,
      "outputs": []
    },
    {
      "cell_type": "code",
      "metadata": {
        "id": "qRAtL_oIf151",
        "colab_type": "code",
        "colab": {
          "base_uri": "https://localhost:8080/",
          "height": 34
        },
        "outputId": "5655834a-4626-404e-ec61-1f322d955de6"
      },
      "source": [
        "var = var.lower()\n",
        "print (var)"
      ],
      "execution_count": 10,
      "outputs": [
        {
          "output_type": "stream",
          "text": [
            "abc\n"
          ],
          "name": "stdout"
        }
      ]
    },
    {
      "cell_type": "code",
      "metadata": {
        "id": "CX5f5wnif4E0",
        "colab_type": "code",
        "colab": {}
      },
      "source": [
        "var = 'AbC'"
      ],
      "execution_count": 0,
      "outputs": []
    },
    {
      "cell_type": "code",
      "metadata": {
        "id": "kXvPkYWTf6BP",
        "colab_type": "code",
        "colab": {
          "base_uri": "https://localhost:8080/",
          "height": 34
        },
        "outputId": "bde24f6c-74bd-4360-aa5e-c4fa11b63b68"
      },
      "source": [
        "var = var.upper()\n",
        "print (var)"
      ],
      "execution_count": 12,
      "outputs": [
        {
          "output_type": "stream",
          "text": [
            "ABC\n"
          ],
          "name": "stdout"
        }
      ]
    },
    {
      "cell_type": "code",
      "metadata": {
        "id": "IKRH597Zf8gS",
        "colab_type": "code",
        "colab": {}
      },
      "source": [
        ""
      ],
      "execution_count": 0,
      "outputs": []
    }
  ]
}