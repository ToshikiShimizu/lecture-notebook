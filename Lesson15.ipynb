{
  "nbformat": 4,
  "nbformat_minor": 0,
  "metadata": {
    "colab": {
      "name": "Lesson15.ipynb",
      "provenance": [],
      "authorship_tag": "ABX9TyPfkN4fhb5IQd3I98zIpJDa",
      "include_colab_link": true
    },
    "kernelspec": {
      "name": "python3",
      "display_name": "Python 3"
    }
  },
  "cells": [
    {
      "cell_type": "markdown",
      "metadata": {
        "id": "view-in-github",
        "colab_type": "text"
      },
      "source": [
        "<a href=\"https://colab.research.google.com/github/ToshikiShimizu/lecture-notebook/blob/master/Lesson15.ipynb\" target=\"_parent\"><img src=\"https://colab.research.google.com/assets/colab-badge.svg\" alt=\"Open In Colab\"/></a>"
      ]
    },
    {
      "cell_type": "markdown",
      "metadata": {
        "id": "KfRIt1-kueNe",
        "colab_type": "text"
      },
      "source": [
        "# if文"
      ]
    },
    {
      "cell_type": "code",
      "metadata": {
        "id": "CPF4BtfnvgVM",
        "colab_type": "code",
        "colab": {}
      },
      "source": [
        "A = True\n",
        "B = False"
      ],
      "execution_count": 0,
      "outputs": []
    },
    {
      "cell_type": "code",
      "metadata": {
        "id": "BLZsr9B2vlaW",
        "colab_type": "code",
        "colab": {}
      },
      "source": [
        "if (A and B):\n",
        "  print ('True')"
      ],
      "execution_count": 0,
      "outputs": []
    },
    {
      "cell_type": "code",
      "metadata": {
        "id": "QJb8ZflwvmBP",
        "colab_type": "code",
        "colab": {
          "base_uri": "https://localhost:8080/",
          "height": 34
        },
        "outputId": "59912b9e-da6d-4768-f915-5971db071d07"
      },
      "source": [
        "if (A or B):\n",
        "  print ('True')"
      ],
      "execution_count": 7,
      "outputs": [
        {
          "output_type": "stream",
          "text": [
            "True\n"
          ],
          "name": "stdout"
        }
      ]
    },
    {
      "cell_type": "code",
      "metadata": {
        "id": "K_iU5SsgvnKb",
        "colab_type": "code",
        "colab": {
          "base_uri": "https://localhost:8080/",
          "height": 34
        },
        "outputId": "5cce3e24-9944-4691-a90e-730165af0dfb"
      },
      "source": [
        "if (A and A):\n",
        "  print ('True')"
      ],
      "execution_count": 8,
      "outputs": [
        {
          "output_type": "stream",
          "text": [
            "True\n"
          ],
          "name": "stdout"
        }
      ]
    },
    {
      "cell_type": "code",
      "metadata": {
        "id": "PxcrHoh5vorC",
        "colab_type": "code",
        "colab": {}
      },
      "source": [
        "if (B or B):\n",
        "  print ('True')"
      ],
      "execution_count": 0,
      "outputs": []
    },
    {
      "cell_type": "code",
      "metadata": {
        "id": "vfQI0UG2vqc6",
        "colab_type": "code",
        "colab": {}
      },
      "source": [
        ""
      ],
      "execution_count": 0,
      "outputs": []
    }
  ]
}